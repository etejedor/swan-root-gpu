{
 "cells": [
  {
   "cell_type": "markdown",
   "metadata": {},
   "source": [
    "# Interactive use of GPU-accelerated libraries from a Python notebook with ROOT\n",
    "\n",
    "SWAN users can now attach GPU resources to their sessions. They do so by selecting a GPU-enabled LCG release, which contains a set of libraries that have been compiled with GPU support (e.g. tensorflow) together with the Nvidia CUDA libraries and compiler suite.\n",
    "\n",
    "This opens the door to interactively loading GPU-powered libraries from a ROOT Python notebook and invoking them right away, thus exploiting the GPU resources!"
   ]
  },
  {
   "cell_type": "markdown",
   "metadata": {},
   "source": [
    "Let's see an example. First we create a header file with the declaration of the function that will use the GPU."
   ]
  },
  {
   "cell_type": "code",
   "execution_count": 1,
   "metadata": {},
   "outputs": [
    {
     "name": "stdout",
     "output_type": "stream",
     "text": [
      "Overwriting example.h\n"
     ]
    }
   ],
   "source": [
    "%%file example.h\n",
    "\n",
    "void hello_on_gpu();"
   ]
  },
  {
   "cell_type": "markdown",
   "metadata": {},
   "source": [
    "Second we create a CUDA file that defines the aforementioned function plus the CUDA kernel that is invoked from it."
   ]
  },
  {
   "cell_type": "code",
   "execution_count": 2,
   "metadata": {},
   "outputs": [
    {
     "name": "stdout",
     "output_type": "stream",
     "text": [
      "Overwriting example.cu\n"
     ]
    }
   ],
   "source": [
    "%%file example.cu\n",
    "\n",
    "#include \"example.h\"\n",
    "#include \"stdio.h\"\n",
    "\n",
    "__global__ void cuda_hello(){\n",
    "    printf(\"Hello World from GPU!\\n\");\n",
    "}\n",
    "\n",
    "void hello_on_gpu() {\n",
    "    cuda_hello<<<1,1>>>();\n",
    "}"
   ]
  },
  {
   "cell_type": "markdown",
   "metadata": {},
   "source": [
    "Third we compile the code above into a shared library."
   ]
  },
  {
   "cell_type": "code",
   "execution_count": 3,
   "metadata": {},
   "outputs": [],
   "source": [
    "%%bash\n",
    "\n",
    "nvcc --compiler-options '-fPIC' -o example.so --shared example.cu"
   ]
  },
  {
   "cell_type": "markdown",
   "metadata": {},
   "source": [
    "Now that we have our GPU-accelerated shared library, we can import ROOT and use it."
   ]
  },
  {
   "cell_type": "code",
   "execution_count": 4,
   "metadata": {},
   "outputs": [
    {
     "name": "stdout",
     "output_type": "stream",
     "text": [
      "Welcome to JupyROOT 6.22/06\n"
     ]
    }
   ],
   "source": [
    "import ROOT"
   ]
  },
  {
   "cell_type": "markdown",
   "metadata": {},
   "source": [
    "Let's jit the header..."
   ]
  },
  {
   "cell_type": "code",
   "execution_count": 5,
   "metadata": {},
   "outputs": [],
   "source": [
    "%%cpp\n",
    "\n",
    "#include \"example.h\""
   ]
  },
  {
   "cell_type": "markdown",
   "metadata": {},
   "source": [
    "and load the library."
   ]
  },
  {
   "cell_type": "code",
   "execution_count": 6,
   "metadata": {},
   "outputs": [
    {
     "data": {
      "text/plain": [
       "0"
      ]
     },
     "execution_count": 6,
     "metadata": {},
     "output_type": "execute_result"
    }
   ],
   "source": [
    "ROOT.gSystem.Load(\"example.so\")"
   ]
  },
  {
   "cell_type": "markdown",
   "metadata": {},
   "source": [
    "All that is left is to invoke the function that will offload to the GPU!"
   ]
  },
  {
   "cell_type": "code",
   "execution_count": 7,
   "metadata": {},
   "outputs": [
    {
     "name": "stdout",
     "output_type": "stream",
     "text": [
      "Hello World from GPU!\n"
     ]
    }
   ],
   "source": [
    "ROOT.hello_on_gpu()"
   ]
  }
 ],
 "metadata": {
  "kernelspec": {
   "display_name": "Python 3",
   "language": "python",
   "name": "python3"
  },
  "language_info": {
   "codemirror_mode": {
    "name": "ipython",
    "version": 3
   },
   "file_extension": ".py",
   "mimetype": "text/x-python",
   "name": "python",
   "nbconvert_exporter": "python",
   "pygments_lexer": "ipython3",
   "version": "3.7.6"
  }
 },
 "nbformat": 4,
 "nbformat_minor": 4
}
