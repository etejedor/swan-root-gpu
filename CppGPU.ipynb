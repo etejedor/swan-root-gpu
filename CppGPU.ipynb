{
 "cells": [
  {
   "cell_type": "markdown",
   "metadata": {},
   "source": [
    "# Interactive use of GPU-accelerated libraries from a ROOT C++ notebook\n",
    "\n",
    "SWAN users can now attach GPU resources to their sessions. They do so by selecting a GPU-enabled LCG release, which contains a set of libraries that have been compiled with GPU support (e.g. tensorflow) together with the Nvidia CUDA libraries and compiler suite.\n",
    "\n",
    "This opens the door to interactively loading GPU-powered libraries from a ROOT C++ notebook and invoking them right away, thus exploiting the GPU resources!"
   ]
  },
  {
   "cell_type": "markdown",
   "metadata": {},
   "source": [
    "Let's see an example. First we create a header file with the declaration of the function that will use the GPU."
   ]
  },
  {
   "cell_type": "code",
   "execution_count": null,
   "metadata": {},
   "outputs": [],
   "source": [
    "%%file example.h\n",
    "\n",
    "void hello_on_gpu();"
   ]
  },
  {
   "cell_type": "markdown",
   "metadata": {},
   "source": [
    "Second we create a CUDA file that defines the aforementioned function plus the CUDA kernel that is invoked from it."
   ]
  },
  {
   "cell_type": "code",
   "execution_count": null,
   "metadata": {},
   "outputs": [],
   "source": [
    "%%file example.cu\n",
    "\n",
    "#include \"example.h\"\n",
    "#include \"stdio.h\"\n",
    "\n",
    "__global__ void cuda_hello(){\n",
    "    printf(\"Hello World from GPU!\\n\");\n",
    "}\n",
    "\n",
    "void hello_on_gpu() {\n",
    "    cuda_hello<<<1,1>>>();\n",
    "}"
   ]
  },
  {
   "cell_type": "markdown",
   "metadata": {},
   "source": [
    "Third we compile the code above into a shared library."
   ]
  },
  {
   "cell_type": "code",
   "execution_count": 3,
   "metadata": {},
   "outputs": [],
   "source": [
    "%%shell\n",
    "\n",
    "nvcc --compiler-options '-fPIC' -o example.so --shared example.cu"
   ]
  },
  {
   "cell_type": "markdown",
   "metadata": {},
   "source": [
    "Now that we have our GPU-accelerated shared library, we can jit the header..."
   ]
  },
  {
   "cell_type": "code",
   "execution_count": 4,
   "metadata": {},
   "outputs": [],
   "source": [
    "#include \"example.h\""
   ]
  },
  {
   "cell_type": "markdown",
   "metadata": {},
   "source": [
    "and load the library."
   ]
  },
  {
   "cell_type": "code",
   "execution_count": 5,
   "metadata": {},
   "outputs": [],
   "source": [
    "gSystem->Load(\"example.so\");"
   ]
  },
  {
   "cell_type": "markdown",
   "metadata": {},
   "source": [
    "All that is left is to invoke the function that will offload to the GPU!"
   ]
  },
  {
   "cell_type": "code",
   "execution_count": 6,
   "metadata": {},
   "outputs": [
    {
     "name": "stdout",
     "output_type": "stream",
     "text": [
      "Hello World from GPU!\n"
     ]
    }
   ],
   "source": [
    "hello_on_gpu()"
   ]
  }
 ],
 "metadata": {
  "kernelspec": {
   "display_name": "ROOT C++",
   "language": "c++",
   "name": "root"
  },
  "language_info": {
   "codemirror_mode": "text/x-c++src",
   "file_extension": ".C",
   "mimetype": " text/x-c++src",
   "name": "c++"
  }
 },
 "nbformat": 4,
 "nbformat_minor": 4
}
